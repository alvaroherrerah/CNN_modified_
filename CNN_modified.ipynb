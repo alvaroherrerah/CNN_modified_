{
 "cells": [
  {
   "cell_type": "code",
   "execution_count": null,
   "id": "initial_id",
   "metadata": {
    "collapsed": true
   },
   "outputs": [],
   "source": [
    "from keras.applications.vgg16 import VGG16\n",
    "import sys\n",
    "from matplotlib import pyplot\n",
    "from keras.utils import to_categorical\n",
    "from keras.models import Model\n",
    "from keras.layers import Dense\n",
    "from keras.layers import Flatten\n",
    "from keras.optimizers import SGD\n",
    "from tensorflow.keras.optimizers import Adam\n",
    "from keras.preprocessing.image import ImageDataGenerator\n",
    "from google.colab import drive\n",
    "import zipfile\n",
    "import os\n",
    "import keras\n",
    "import tensorflow as tf\n",
    "from keras.preprocessing.image import load_img\n",
    "from keras.preprocessing.image import img_to_array\n",
    "from keras.applications.vgg16 import preprocess_input\n",
    "import numpy as np\n",
    "import matplotlib.pyplot as plt\n",
    "from IPython.display import Image, display\n",
    "import matplotlib as mpl"
   ]
  },
  {
   "cell_type": "code",
   "outputs": [],
   "source": [
    "# Para extraer las imágenes Glaucoma\n",
    "drive.mount('/content/drive')\n",
    "\n",
    "# Ruta a la carpeta donde están tus archivos zip\n",
    "base_zip_path = ('/content/drive/My Drive/Redes_Neuronales/')\n",
    "# Directorios para extraer los contenidos\n",
    "data_dir = '/content/train'\n",
    "test_dir = '/content/validation'\n",
    "\n",
    "# Descomprimir data.zip\n",
    "with zipfile.ZipFile(base_zip_path + 'Train_Glau.zip', 'r') as zip_ref:\n",
    "    zip_ref.extractall(data_dir)\n",
    "# Descomprimir test.zip\n",
    "with zipfile.ZipFile(base_zip_path + 'Validation_Glau.zip', 'r') as zip_ref:\n",
    "    zip_ref.extractall(test_dir)"
   ],
   "metadata": {
    "collapsed": false
   },
   "id": "b16dba26057c3137"
  },
  {
   "cell_type": "code",
   "outputs": [],
   "source": [
    "def nuevo_modelo():\n",
    "  model = VGG16(include_top = False, input_shape = (224,224,3))\n",
    "  for layer in model.layers:\n",
    "    # ahora no aprenden:\n",
    "    layer.trainable = False\n",
    "  # añadimos nuevas:\n",
    "  capa_flat = Flatten()(model.layers[-1].output)\n",
    "  densa1 = Dense(128, activation = \"relu\", kernel_initializer = \"he_uniform\")(capa_flat)\n",
    "  salida = Dense(1, activation = \"sigmoid\")(densa1)\n",
    "  # estructura:\n",
    "  model = Model(inputs = model.inputs, outputs = salida)\n",
    "  # optimizador:\n",
    "  opt = Adam(learning_rate=0.0001, beta_1=0.9)\n",
    "  model.compile(opt, loss = \"binary_crossentropy\", metrics = [\"accuracy\"])\n",
    "  return model"
   ],
   "metadata": {
    "collapsed": false
   },
   "id": "44d1b4c42cc703a9"
  },
  {
   "cell_type": "code",
   "outputs": [],
   "source": [
    "# Curvas de diagnóstico:\n",
    "def graficas_f (history):\n",
    " # loss\n",
    " pyplot.subplot(211)\n",
    " pyplot.title('Cross Entropy Loss')\n",
    " pyplot.plot(history.history['loss'], color='blue', label='train')\n",
    " pyplot.plot(history.history['val_loss'], color='orange', label='test')\n",
    " # accuracy\n",
    " pyplot.subplot(212)\n",
    " pyplot.title('Classification Accuracy')\n",
    " pyplot.plot(history.history['accuracy'], color='blue', label='train')\n",
    " pyplot.plot(history.history['val_accuracy'], color='orange', label='test')\n",
    " # guardamos\n",
    " filename = sys.argv[0].split('/')[-1]\n",
    " pyplot.savefig(filename + '_plot.png')\n",
    " pyplot.close()"
   ],
   "metadata": {
    "collapsed": false
   },
   "id": "7e48a0d748d47013"
  },
  {
   "cell_type": "code",
   "outputs": [],
   "source": [
    "def entrenamiento_modelo():\n",
    "  # creamos el modelo con la función:\n",
    "  model = nuevo_modelo()\n",
    "\n",
    "  datagen = ImageDataGenerator(featurewise_center = True)\n",
    "  datagen.mean = [123.68, 116.779, 103.939]\n",
    "\n",
    "  # preparamos el iterador:\n",
    "  traindata = datagen.flow_from_directory(directory=data_dir, class_mode='binary', batch_size=64, target_size=(224, 224))\n",
    "\n",
    "  testdata = datagen.flow_from_directory(directory=test_dir, class_mode='binary', batch_size=64, target_size=(224, 224))\n",
    "\n",
    "  # model fit\n",
    "  history = model.fit(traindata,\n",
    "                      steps_per_epoch=len(traindata),\n",
    "                      validation_data=testdata,\n",
    "                      validation_steps=len(testdata),\n",
    "                      epochs=10,\n",
    "                      verbose=1)\n",
    "   # lo evaluamos\n",
    "  _, acc = model.evaluate(testdata, steps=len(testdata), verbose=0)\n",
    "  print('> %.3f' % (acc * 100.0))\n",
    "  #curvas\n",
    "  graficas_f (history)\n",
    "  # guardamos el modelo\n",
    "  model.save('modelo_final.keras')"
   ],
   "metadata": {
    "collapsed": false
   },
   "id": "de82aeb976f9e54f"
  },
  {
   "cell_type": "code",
   "outputs": [],
   "source": [
    "entrenamiento_modelo()"
   ],
   "metadata": {
    "collapsed": false
   },
   "id": "dd65a13e873886eb"
  },
  {
   "cell_type": "code",
   "outputs": [],
   "source": [
    "from keras.models import load_model\n",
    "model = load_model('modelo_final.keras')"
   ],
   "metadata": {
    "collapsed": false
   },
   "id": "f12554d035644b36"
  },
  {
   "cell_type": "code",
   "outputs": [],
   "source": [
    "from tensorflow.keras.utils import plot_model\n",
    "plot_model(model, to_file='model_structure.png', show_shapes=True)"
   ],
   "metadata": {
    "collapsed": false
   },
   "id": "fe83f54631724a6d"
  }
 ],
 "metadata": {
  "kernelspec": {
   "display_name": "Python 3",
   "language": "python",
   "name": "python3"
  },
  "language_info": {
   "codemirror_mode": {
    "name": "ipython",
    "version": 2
   },
   "file_extension": ".py",
   "mimetype": "text/x-python",
   "name": "python",
   "nbconvert_exporter": "python",
   "pygments_lexer": "ipython2",
   "version": "2.7.6"
  }
 },
 "nbformat": 4,
 "nbformat_minor": 5
}
